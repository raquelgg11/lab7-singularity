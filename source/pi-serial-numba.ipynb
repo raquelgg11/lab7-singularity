{
 "cells": [
  {
   "cell_type": "code",
   "execution_count": 6,
   "metadata": {},
   "outputs": [
    {
     "name": "stdout",
     "output_type": "stream",
     "text": [
      "\n",
      " \t Computing pi with numba: \n",
      "\n",
      "\t For 10000000 trials, pi = 3.141708\n",
      "\n",
      "534 ms ± 2.47 ms per loop (mean ± std. dev. of 3 runs, 1 loop each)\n"
     ]
    }
   ],
   "source": [
    "from numba import njit, prange\n",
    "#import numpy.random as rng\n",
    "#import random\n",
    "#import sys\n",
    "\n",
    "@njit(fastmath=True, cache=True, nogil=True)\n",
    "def calc_pi_numba(N):\n",
    "    M = 0\n",
    "    for i in range(N):\n",
    "# Simulate impact coordinates\n",
    "        x = random.uniform(-1, 1)\n",
    "        y = random.uniform(-1, 1)\n",
    "# True if impact happens inside the circle\n",
    "        if x**2 + y**2 < 1.0:\n",
    "            M += 1\n",
    "    return 4 * M / N\n",
    "\n",
    "num_trials = 10**6\n",
    "\n",
    "pi = calc_pi_numba(num_trials)\n",
    "\n",
    "print(\"\\n \\t Computing pi with numba: \\n\")\n",
    "print(\"\\t For %d trials, pi = %f\\n\" % (num_trials,pi))\n",
    "\n",
    "%timeit -r3 calc_pi_numba(num_trials)"
   ]
  }
 ],
 "metadata": {
  "kernelspec": {
   "display_name": "Python3.6",
   "language": "python",
   "name": "python3.6"
  },
  "language_info": {
   "codemirror_mode": {
    "name": "ipython",
    "version": 3
   },
   "file_extension": ".py",
   "mimetype": "text/x-python",
   "name": "python",
   "nbconvert_exporter": "python",
   "pygments_lexer": "ipython3",
   "version": "3.6.8"
  }
 },
 "nbformat": 4,
 "nbformat_minor": 4
}
